{
 "cells": [
  {
   "cell_type": "markdown",
   "metadata": {},
   "source": [
    "# Star Wars survey: an insight into viewers preference and opinion"
   ]
  },
  {
   "cell_type": "markdown",
   "metadata": {},
   "source": [
    "Almost everyone has seen a Star Wars movie, the viewer spectrum goes from \"OMG I wish this was real\" to \"Eew I just hate anything associated with geek culture\". So, across this sea of opinions there are many questions to be answered in order to give some insight into how this multi-billion dollar franchise is perceived and consumed by the general public.\n",
    "\n",
    "With this project we'll try to extract as much information as we can from the data, with the main objective of finding a general profile for the ideal star wars fan.\n",
    "\n",
    "The dataset we'll be using is a survey made by [FiveThirtyEight](https://github.com/fivethirtyeight/data/blob/master/star-wars-survey/StarWars.csv) before the premiere of the sequel trilogy first movie"
   ]
  },
  {
   "cell_type": "code",
   "execution_count": 1,
   "metadata": {},
   "outputs": [],
   "source": [
    "import pandas as pd\n",
    "import numpy as np\n",
    "import matplotlib.pyplot as plt\n",
    "%matplotlib inline"
   ]
  },
  {
   "cell_type": "code",
   "execution_count": 2,
   "metadata": {
    "scrolled": false
   },
   "outputs": [
    {
     "name": "stdout",
     "output_type": "stream",
     "text": [
      "Index(['RespondentID',\n",
      "       'Have you seen any of the 6 films in the Star Wars franchise?',\n",
      "       'Do you consider yourself to be a fan of the Star Wars film franchise?',\n",
      "       'Which of the following Star Wars films have you seen? Please select all that apply.',\n",
      "       'Unnamed: 4', 'Unnamed: 5', 'Unnamed: 6', 'Unnamed: 7', 'Unnamed: 8',\n",
      "       'Please rank the Star Wars films in order of preference with 1 being your favorite film in the franchise and 6 being your least favorite film.',\n",
      "       'Unnamed: 10', 'Unnamed: 11', 'Unnamed: 12', 'Unnamed: 13',\n",
      "       'Unnamed: 14',\n",
      "       'Please state whether you view the following characters favorably, unfavorably, or are unfamiliar with him/her.',\n",
      "       'Unnamed: 16', 'Unnamed: 17', 'Unnamed: 18', 'Unnamed: 19',\n",
      "       'Unnamed: 20', 'Unnamed: 21', 'Unnamed: 22', 'Unnamed: 23',\n",
      "       'Unnamed: 24', 'Unnamed: 25', 'Unnamed: 26', 'Unnamed: 27',\n",
      "       'Unnamed: 28', 'Which character shot first?',\n",
      "       'Are you familiar with the Expanded Universe?',\n",
      "       'Do you consider yourself to be a fan of the Expanded Universe?ÂÃ¦',\n",
      "       'Do you consider yourself to be a fan of the Star Trek franchise?',\n",
      "       'Gender', 'Age', 'Household Income', 'Education',\n",
      "       'Location (Census Region)'],\n",
      "      dtype='object')\n",
      "False    1186\n",
      "True        1\n",
      "Name: RespondentID, dtype: int64\n"
     ]
    },
    {
     "data": {
      "text/html": [
       "<div>\n",
       "<style scoped>\n",
       "    .dataframe tbody tr th:only-of-type {\n",
       "        vertical-align: middle;\n",
       "    }\n",
       "\n",
       "    .dataframe tbody tr th {\n",
       "        vertical-align: top;\n",
       "    }\n",
       "\n",
       "    .dataframe thead th {\n",
       "        text-align: right;\n",
       "    }\n",
       "</style>\n",
       "<table border=\"1\" class=\"dataframe\">\n",
       "  <thead>\n",
       "    <tr style=\"text-align: right;\">\n",
       "      <th></th>\n",
       "      <th>RespondentID</th>\n",
       "      <th>Have you seen any of the 6 films in the Star Wars franchise?</th>\n",
       "      <th>Do you consider yourself to be a fan of the Star Wars film franchise?</th>\n",
       "      <th>Which of the following Star Wars films have you seen? Please select all that apply.</th>\n",
       "      <th>Unnamed: 4</th>\n",
       "      <th>Unnamed: 5</th>\n",
       "      <th>Unnamed: 6</th>\n",
       "      <th>Unnamed: 7</th>\n",
       "      <th>Unnamed: 8</th>\n",
       "      <th>Please rank the Star Wars films in order of preference with 1 being your favorite film in the franchise and 6 being your least favorite film.</th>\n",
       "      <th>...</th>\n",
       "      <th>Unnamed: 28</th>\n",
       "      <th>Which character shot first?</th>\n",
       "      <th>Are you familiar with the Expanded Universe?</th>\n",
       "      <th>Do you consider yourself to be a fan of the Expanded Universe?ÂÃ¦</th>\n",
       "      <th>Do you consider yourself to be a fan of the Star Trek franchise?</th>\n",
       "      <th>Gender</th>\n",
       "      <th>Age</th>\n",
       "      <th>Household Income</th>\n",
       "      <th>Education</th>\n",
       "      <th>Location (Census Region)</th>\n",
       "    </tr>\n",
       "  </thead>\n",
       "  <tbody>\n",
       "    <tr>\n",
       "      <th>0</th>\n",
       "      <td>NaN</td>\n",
       "      <td>Response</td>\n",
       "      <td>Response</td>\n",
       "      <td>Star Wars: Episode I  The Phantom Menace</td>\n",
       "      <td>Star Wars: Episode II  Attack of the Clones</td>\n",
       "      <td>Star Wars: Episode III  Revenge of the Sith</td>\n",
       "      <td>Star Wars: Episode IV  A New Hope</td>\n",
       "      <td>Star Wars: Episode V The Empire Strikes Back</td>\n",
       "      <td>Star Wars: Episode VI Return of the Jedi</td>\n",
       "      <td>Star Wars: Episode I  The Phantom Menace</td>\n",
       "      <td>...</td>\n",
       "      <td>Yoda</td>\n",
       "      <td>Response</td>\n",
       "      <td>Response</td>\n",
       "      <td>Response</td>\n",
       "      <td>Response</td>\n",
       "      <td>Response</td>\n",
       "      <td>Response</td>\n",
       "      <td>Response</td>\n",
       "      <td>Response</td>\n",
       "      <td>Response</td>\n",
       "    </tr>\n",
       "    <tr>\n",
       "      <th>1</th>\n",
       "      <td>3.292880e+09</td>\n",
       "      <td>Yes</td>\n",
       "      <td>Yes</td>\n",
       "      <td>Star Wars: Episode I  The Phantom Menace</td>\n",
       "      <td>Star Wars: Episode II  Attack of the Clones</td>\n",
       "      <td>Star Wars: Episode III  Revenge of the Sith</td>\n",
       "      <td>Star Wars: Episode IV  A New Hope</td>\n",
       "      <td>Star Wars: Episode V The Empire Strikes Back</td>\n",
       "      <td>Star Wars: Episode VI Return of the Jedi</td>\n",
       "      <td>3</td>\n",
       "      <td>...</td>\n",
       "      <td>Very favorably</td>\n",
       "      <td>I don't understand this question</td>\n",
       "      <td>Yes</td>\n",
       "      <td>No</td>\n",
       "      <td>No</td>\n",
       "      <td>Male</td>\n",
       "      <td>18-29</td>\n",
       "      <td>NaN</td>\n",
       "      <td>High school degree</td>\n",
       "      <td>South Atlantic</td>\n",
       "    </tr>\n",
       "    <tr>\n",
       "      <th>2</th>\n",
       "      <td>3.292880e+09</td>\n",
       "      <td>No</td>\n",
       "      <td>NaN</td>\n",
       "      <td>NaN</td>\n",
       "      <td>NaN</td>\n",
       "      <td>NaN</td>\n",
       "      <td>NaN</td>\n",
       "      <td>NaN</td>\n",
       "      <td>NaN</td>\n",
       "      <td>NaN</td>\n",
       "      <td>...</td>\n",
       "      <td>NaN</td>\n",
       "      <td>NaN</td>\n",
       "      <td>NaN</td>\n",
       "      <td>NaN</td>\n",
       "      <td>Yes</td>\n",
       "      <td>Male</td>\n",
       "      <td>18-29</td>\n",
       "      <td>$0 - $24,999</td>\n",
       "      <td>Bachelor degree</td>\n",
       "      <td>West South Central</td>\n",
       "    </tr>\n",
       "    <tr>\n",
       "      <th>3</th>\n",
       "      <td>3.292765e+09</td>\n",
       "      <td>Yes</td>\n",
       "      <td>No</td>\n",
       "      <td>Star Wars: Episode I  The Phantom Menace</td>\n",
       "      <td>Star Wars: Episode II  Attack of the Clones</td>\n",
       "      <td>Star Wars: Episode III  Revenge of the Sith</td>\n",
       "      <td>NaN</td>\n",
       "      <td>NaN</td>\n",
       "      <td>NaN</td>\n",
       "      <td>1</td>\n",
       "      <td>...</td>\n",
       "      <td>Unfamiliar (N/A)</td>\n",
       "      <td>I don't understand this question</td>\n",
       "      <td>No</td>\n",
       "      <td>NaN</td>\n",
       "      <td>No</td>\n",
       "      <td>Male</td>\n",
       "      <td>18-29</td>\n",
       "      <td>$0 - $24,999</td>\n",
       "      <td>High school degree</td>\n",
       "      <td>West North Central</td>\n",
       "    </tr>\n",
       "    <tr>\n",
       "      <th>4</th>\n",
       "      <td>3.292763e+09</td>\n",
       "      <td>Yes</td>\n",
       "      <td>Yes</td>\n",
       "      <td>Star Wars: Episode I  The Phantom Menace</td>\n",
       "      <td>Star Wars: Episode II  Attack of the Clones</td>\n",
       "      <td>Star Wars: Episode III  Revenge of the Sith</td>\n",
       "      <td>Star Wars: Episode IV  A New Hope</td>\n",
       "      <td>Star Wars: Episode V The Empire Strikes Back</td>\n",
       "      <td>Star Wars: Episode VI Return of the Jedi</td>\n",
       "      <td>5</td>\n",
       "      <td>...</td>\n",
       "      <td>Very favorably</td>\n",
       "      <td>I don't understand this question</td>\n",
       "      <td>No</td>\n",
       "      <td>NaN</td>\n",
       "      <td>Yes</td>\n",
       "      <td>Male</td>\n",
       "      <td>18-29</td>\n",
       "      <td>$100,000 - $149,999</td>\n",
       "      <td>Some college or Associate degree</td>\n",
       "      <td>West North Central</td>\n",
       "    </tr>\n",
       "  </tbody>\n",
       "</table>\n",
       "<p>5 rows × 38 columns</p>\n",
       "</div>"
      ],
      "text/plain": [
       "   RespondentID Have you seen any of the 6 films in the Star Wars franchise?  \\\n",
       "0           NaN                                           Response             \n",
       "1  3.292880e+09                                                Yes             \n",
       "2  3.292880e+09                                                 No             \n",
       "3  3.292765e+09                                                Yes             \n",
       "4  3.292763e+09                                                Yes             \n",
       "\n",
       "  Do you consider yourself to be a fan of the Star Wars film franchise?  \\\n",
       "0                                           Response                      \n",
       "1                                                Yes                      \n",
       "2                                                NaN                      \n",
       "3                                                 No                      \n",
       "4                                                Yes                      \n",
       "\n",
       "  Which of the following Star Wars films have you seen? Please select all that apply.  \\\n",
       "0           Star Wars: Episode I  The Phantom Menace                                    \n",
       "1           Star Wars: Episode I  The Phantom Menace                                    \n",
       "2                                                NaN                                    \n",
       "3           Star Wars: Episode I  The Phantom Menace                                    \n",
       "4           Star Wars: Episode I  The Phantom Menace                                    \n",
       "\n",
       "                                    Unnamed: 4  \\\n",
       "0  Star Wars: Episode II  Attack of the Clones   \n",
       "1  Star Wars: Episode II  Attack of the Clones   \n",
       "2                                          NaN   \n",
       "3  Star Wars: Episode II  Attack of the Clones   \n",
       "4  Star Wars: Episode II  Attack of the Clones   \n",
       "\n",
       "                                    Unnamed: 5  \\\n",
       "0  Star Wars: Episode III  Revenge of the Sith   \n",
       "1  Star Wars: Episode III  Revenge of the Sith   \n",
       "2                                          NaN   \n",
       "3  Star Wars: Episode III  Revenge of the Sith   \n",
       "4  Star Wars: Episode III  Revenge of the Sith   \n",
       "\n",
       "                          Unnamed: 6  \\\n",
       "0  Star Wars: Episode IV  A New Hope   \n",
       "1  Star Wars: Episode IV  A New Hope   \n",
       "2                                NaN   \n",
       "3                                NaN   \n",
       "4  Star Wars: Episode IV  A New Hope   \n",
       "\n",
       "                                     Unnamed: 7  \\\n",
       "0  Star Wars: Episode V The Empire Strikes Back   \n",
       "1  Star Wars: Episode V The Empire Strikes Back   \n",
       "2                                           NaN   \n",
       "3                                           NaN   \n",
       "4  Star Wars: Episode V The Empire Strikes Back   \n",
       "\n",
       "                                 Unnamed: 8  \\\n",
       "0  Star Wars: Episode VI Return of the Jedi   \n",
       "1  Star Wars: Episode VI Return of the Jedi   \n",
       "2                                       NaN   \n",
       "3                                       NaN   \n",
       "4  Star Wars: Episode VI Return of the Jedi   \n",
       "\n",
       "  Please rank the Star Wars films in order of preference with 1 being your favorite film in the franchise and 6 being your least favorite film.  \\\n",
       "0           Star Wars: Episode I  The Phantom Menace                                                                                              \n",
       "1                                                  3                                                                                              \n",
       "2                                                NaN                                                                                              \n",
       "3                                                  1                                                                                              \n",
       "4                                                  5                                                                                              \n",
       "\n",
       "   ...       Unnamed: 28       Which character shot first?  \\\n",
       "0  ...              Yoda                          Response   \n",
       "1  ...    Very favorably  I don't understand this question   \n",
       "2  ...               NaN                               NaN   \n",
       "3  ...  Unfamiliar (N/A)  I don't understand this question   \n",
       "4  ...    Very favorably  I don't understand this question   \n",
       "\n",
       "  Are you familiar with the Expanded Universe?  \\\n",
       "0                                     Response   \n",
       "1                                          Yes   \n",
       "2                                          NaN   \n",
       "3                                           No   \n",
       "4                                           No   \n",
       "\n",
       "  Do you consider yourself to be a fan of the Expanded Universe?ÂÃ¦  \\\n",
       "0                                           Response                   \n",
       "1                                                 No                   \n",
       "2                                                NaN                   \n",
       "3                                                NaN                   \n",
       "4                                                NaN                   \n",
       "\n",
       "  Do you consider yourself to be a fan of the Star Trek franchise?    Gender  \\\n",
       "0                                           Response                Response   \n",
       "1                                                 No                    Male   \n",
       "2                                                Yes                    Male   \n",
       "3                                                 No                    Male   \n",
       "4                                                Yes                    Male   \n",
       "\n",
       "        Age     Household Income                         Education  \\\n",
       "0  Response             Response                          Response   \n",
       "1     18-29                  NaN                High school degree   \n",
       "2     18-29         $0 - $24,999                   Bachelor degree   \n",
       "3     18-29         $0 - $24,999                High school degree   \n",
       "4     18-29  $100,000 - $149,999  Some college or Associate degree   \n",
       "\n",
       "  Location (Census Region)  \n",
       "0                 Response  \n",
       "1           South Atlantic  \n",
       "2       West South Central  \n",
       "3       West North Central  \n",
       "4       West North Central  \n",
       "\n",
       "[5 rows x 38 columns]"
      ]
     },
     "execution_count": 2,
     "metadata": {},
     "output_type": "execute_result"
    }
   ],
   "source": [
    "#Reading the data and dysplaying the row names\n",
    "\n",
    "star_wars = pd.read_csv(r'C:\\Users\\ramst\\Data Analysis\\Dataquest\\Projects\\star_wars.csv', encoding=\"ISO-8859-1\")\n",
    "print(star_wars.columns)\n",
    "print(star_wars['RespondentID'].isnull().value_counts())\n",
    "star_wars.head()"
   ]
  },
  {
   "cell_type": "markdown",
   "metadata": {},
   "source": [
    "After inspecting the names of the columns que notice that there are some confusing columns i.e. 'Unnamed: X'. This columns are the answer to the question asked in the previous column. This format derives from having a multiple choice answer type.\n",
    "\n",
    "There's also a null respondent ID, examining the dataset we can see that this row works as a legend for the entire survey so we will eliminate it in the next section. Also, we'll analyze how many null values are in each column an drop whichever has more than 80% of null values"
   ]
  },
  {
   "cell_type": "markdown",
   "metadata": {},
   "source": [
    "## Cleaning the Data"
   ]
  },
  {
   "cell_type": "code",
   "execution_count": 3,
   "metadata": {
    "scrolled": true
   },
   "outputs": [
    {
     "name": "stdout",
     "output_type": "stream",
     "text": [
      "RespondentID : 0.0\n",
      "Have you seen any of the 6 films in the Star Wars franchise? : 0.0\n",
      "Do you consider yourself to be a fan of the Star Wars film franchise? : 29.51\n",
      "Which of the following Star Wars films have you seen? Please select all that apply. : 43.25\n",
      "Unnamed: 4 : 51.85\n",
      "Unnamed: 5 : 53.63\n",
      "Unnamed: 6 : 48.82\n",
      "Unnamed: 7 : 36.09\n",
      "Unnamed: 8 : 37.77\n",
      "Please rank the Star Wars films in order of preference with 1 being your favorite film in the franchise and 6 being your least favorite film. : 29.6\n",
      "Unnamed: 10 : 29.51\n",
      "Unnamed: 11 : 29.6\n",
      "Unnamed: 12 : 29.51\n",
      "Unnamed: 13 : 29.51\n",
      "Unnamed: 14 : 29.51\n",
      "Please state whether you view the following characters favorably, unfavorably, or are unfamiliar with him/her. : 30.1\n",
      "Unnamed: 16 : 29.93\n",
      "Unnamed: 17 : 29.93\n",
      "Unnamed: 18 : 30.61\n",
      "Unnamed: 19 : 30.44\n",
      "Unnamed: 20 : 31.37\n",
      "Unnamed: 21 : 30.35\n",
      "Unnamed: 22 : 30.86\n",
      "Unnamed: 23 : 31.53\n",
      "Unnamed: 24 : 30.27\n",
      "Unnamed: 25 : 30.02\n",
      "Unnamed: 26 : 30.78\n",
      "Unnamed: 27 : 31.37\n",
      "Unnamed: 28 : 30.35\n",
      "Which character shot first? : 30.19\n",
      "Are you familiar with the Expanded Universe? : 30.19\n",
      "Do you consider yourself to be a fan of the Expanded Universe?ÂÃ¦ : 82.04\n",
      "Do you consider yourself to be a fan of the Star Trek franchise? : 9.95\n",
      "Gender : 11.8\n",
      "Age : 11.8\n",
      "Household Income : 27.66\n",
      "Education : 12.65\n",
      "Location (Census Region) : 12.06\n"
     ]
    }
   ],
   "source": [
    "#Removing null RespondentID row\n",
    "\n",
    "star_wars = star_wars[pd.notnull(star_wars[\"RespondentID\"])]\n",
    "\n",
    "#Evaluating null values\n",
    "\n",
    "for col in star_wars.columns:\n",
    "    null_sum = round((star_wars[col].isnull().sum()/1186) * 100, 2)\n",
    "    print(col,':', null_sum)"
   ]
  },
  {
   "cell_type": "markdown",
   "metadata": {},
   "source": [
    "As we can see, ``Do you consider yourself to be a fan of the Expanded Universe?ÂÃ¦`` has more than 80% null values, so we'll drop this column next."
   ]
  },
  {
   "cell_type": "code",
   "execution_count": 4,
   "metadata": {},
   "outputs": [],
   "source": [
    "star_wars.drop('Do you consider yourself to be a fan of the Expanded Universe?ÂÃ¦', axis=1, inplace=True)"
   ]
  },
  {
   "cell_type": "markdown",
   "metadata": {},
   "source": [
    "Having eliminated the 'legend row' and the column with mostly null values we proceed to rename some answers. In order to have a more intuitive way to quantify answers to questions which responsse only have two outcomes, we'll transform the answers into True or False."
   ]
  },
  {
   "cell_type": "code",
   "execution_count": 5,
   "metadata": {
    "scrolled": false
   },
   "outputs": [],
   "source": [
    "#Creating a map dictionary\n",
    "\n",
    "yes_no = {\"Yes\": True,\"No\": False}\n",
    "\n",
    "#Using the map function to convert the answers into True or False\n",
    "\n",
    "star_wars['Have you seen any of the 6 films in the Star Wars franchise?'] = star_wars['Have you seen any of the 6 films in the Star Wars franchise?'].map(yes_no, na_action=None)\n",
    "star_wars['Do you consider yourself to be a fan of the Star Wars film franchise?'] = star_wars['Do you consider yourself to be a fan of the Star Wars film franchise?'].map(yes_no, na_action=None)\n",
    "star_wars['Are you familiar with the Expanded Universe?'] = star_wars['Are you familiar with the Expanded Universe?'].map(yes_no, na_action=None)\n",
    "star_wars['Do you consider yourself to be a fan of the Star Trek franchise?'] = star_wars['Do you consider yourself to be a fan of the Star Trek franchise?'].map(yes_no, na_action=None)"
   ]
  },
  {
   "cell_type": "markdown",
   "metadata": {},
   "source": [
    "We now proceed to rename the answers referring to which movies the respondent have seen following the same logic as above."
   ]
  },
  {
   "cell_type": "code",
   "execution_count": 6,
   "metadata": {
    "scrolled": false
   },
   "outputs": [],
   "source": [
    "#Creating a map dictionary\n",
    "\n",
    "star_dict = {'Star Wars: Episode I  The Phantom Menace':True, 'Star Wars: Episode II  Attack of the Clones':True,\n",
    "            'Star Wars: Episode III  Revenge of the Sith':True, 'Star Wars: Episode IV  A New Hope':True,\n",
    "            'Star Wars: Episode V The Empire Strikes Back':True, 'Star Wars: Episode VI Return of the Jedi':True,\n",
    "            np.nan:False}\n",
    "\n",
    "#Using the map function to convert the answers into True or False\n",
    "\n",
    "for c in star_wars.columns[3:9]:\n",
    "    star_wars[c] = star_wars[c].map(star_dict)"
   ]
  },
  {
   "cell_type": "markdown",
   "metadata": {},
   "source": [
    "Now we can rename the Unnamed: X columns to its correspondent movie."
   ]
  },
  {
   "cell_type": "code",
   "execution_count": 7,
   "metadata": {},
   "outputs": [],
   "source": [
    "star_wars = star_wars.rename(columns={\n",
    "    'Which of the following Star Wars films have you seen? Please select all that apply.':'seen_1', \n",
    "                             'Unnamed: 4':'seen_2','Unnamed: 5':'seen_3', 'Unnamed: 6':'seen_4',\n",
    "                             'Unnamed: 7':'seen_5', 'Unnamed: 8':'seen_6'})"
   ]
  },
  {
   "cell_type": "markdown",
   "metadata": {},
   "source": [
    "To determine which movies were preferred by the respondents, they were asked to rate from 1 to 6 their preferred movies, but on the dataset these numbers are a string, so we'll convert them into a float"
   ]
  },
  {
   "cell_type": "code",
   "execution_count": 8,
   "metadata": {},
   "outputs": [],
   "source": [
    "star_wars[star_wars.columns[9:15]] = star_wars[star_wars.columns[9:15]].astype(float)"
   ]
  },
  {
   "cell_type": "markdown",
   "metadata": {},
   "source": [
    "We'll also rename the columns related to the question ``Please rank the Star Wars films in order of preference with 1 being your favorite film in the franchise and 6 being your least favorite film.`` to better comunicate its content.\n",
    "\n",
    "As the question above states, the scale used is inverted i.e the favorite movies have a lower score. This can create some confusion when first looking at the results, so we'll invert the scale to make it easier to understand them. We'll use the formula:\n",
    "\n",
    "$$\\text{scale minimum value} + \\text{scale maximum value} - \\text{value}_{i}$$"
   ]
  },
  {
   "cell_type": "code",
   "execution_count": 9,
   "metadata": {},
   "outputs": [],
   "source": [
    "#Renaming ranking columns\n",
    "\n",
    "star_wars = star_wars.rename(columns={\n",
    "    'Please rank the Star Wars films in order of preference with 1 being your favorite film in the franchise and 6 being your least favorite film.':'ranking_1', \n",
    "                             'Unnamed: 10':'ranking_2','Unnamed: 11':'ranking_3', 'Unnamed: 12':'ranking_4',\n",
    "                             'Unnamed: 13':'ranking_5', 'Unnamed: 14':'ranking_6'})\n",
    "\n",
    "#Inverting the ranking scale \n",
    "\n",
    "for col in star_wars.columns[9:15]:\n",
    "    star_wars[col] = star_wars[col].apply(lambda x: 7 - x)"
   ]
  },
  {
   "cell_type": "markdown",
   "metadata": {},
   "source": [
    "Now that the dataset is clean we can proceed to extract the information within it."
   ]
  },
  {
   "cell_type": "markdown",
   "metadata": {},
   "source": [
    "## Which is the most liked movie?"
   ]
  },
  {
   "cell_type": "code",
   "execution_count": 10,
   "metadata": {
    "scrolled": false
   },
   "outputs": [
    {
     "data": {
      "image/png": "[encoded data removed]",
      "text/plain": [
       "<Figure size 432x288 with 1 Axes>"
      ]
     },
     "metadata": {
      "needs_background": "light"
     },
     "output_type": "display_data"
    }
   ],
   "source": [
    "plt.bar(['Ep1', 'Ep2', 'Ep3', 'Ep4', 'Ep5', 'Ep6'], star_wars[star_wars.columns[9:15]].mean())\n",
    "plt.yticks([])\n",
    "plt.xlabel('Movie', size=14)\n",
    "plt.title('Movie mean ranking', size=14)\n",
    "plt.show();"
   ]
  },
  {
   "cell_type": "markdown",
   "metadata": {},
   "source": [
    "It's clear that the original trilogy is far more liked than the prequel trilogy. Furthermore, the most liked movie is Episode 5: The Empire Strikes Back, while the less liked movie is Episode 3: Revenge of the Sith"
   ]
  },
  {
   "cell_type": "markdown",
   "metadata": {},
   "source": [
    "## Which is the most seen movie?"
   ]
  },
  {
   "cell_type": "code",
   "execution_count": 11,
   "metadata": {
    "scrolled": true
   },
   "outputs": [
    {
     "data": {
      "image/png": "[encoded data removed]",
      "text/plain": [
       "<Figure size 432x288 with 1 Axes>"
      ]
     },
     "metadata": {
      "needs_background": "light"
     },
     "output_type": "display_data"
    }
   ],
   "source": [
    "plt.bar(['Ep1', 'Ep2', 'Ep3', 'Ep4', 'Ep5', 'Ep6'], star_wars[star_wars.columns[3:9]].sum())\n",
    "plt.yticks([])\n",
    "plt.xlabel('Movie', size=14)\n",
    "plt.title('Seen movie frequency', size=14)\n",
    "plt.show();"
   ]
  },
  {
   "cell_type": "markdown",
   "metadata": {},
   "source": [
    "The most seen movies are the original trilogy last 2 movies, with the first prequel following behind, this doesn't relate to its low popularity rating. One reason this may be explained by is: because it was the first of a new series of movies and it carried all the excitement of a new Star Wars film in 20 years, it attracted a lot of viewers expecting to witness the revival of the Star Wars universe."
   ]
  },
  {
   "cell_type": "markdown",
   "metadata": {},
   "source": [
    "## Popularity comparison between genders"
   ]
  },
  {
   "cell_type": "code",
   "execution_count": 12,
   "metadata": {},
   "outputs": [],
   "source": [
    "#Separating the data by gender\n",
    "\n",
    "men = star_wars[star_wars[\"Gender\"] == \"Male\"]\n",
    "women = star_wars[star_wars[\"Gender\"] == \"Female\"]"
   ]
  },
  {
   "cell_type": "code",
   "execution_count": 13,
   "metadata": {
    "scrolled": false
   },
   "outputs": [
    {
     "name": "stderr",
     "output_type": "stream",
     "text": [
      "C:\\Users\\ramst\\anaconda3\\lib\\site-packages\\ipykernel_launcher.py:16: UserWarning: FixedFormatter should only be used together with FixedLocator\n",
      "  app.launch_new_instance()\n"
     ]
    },
    {
     "data": {
      "image/png": "[encoded data removed]",
      "text/plain": [
       "<Figure size 576x432 with 1 Axes>"
      ]
     },
     "metadata": {
      "needs_background": "light"
     },
     "output_type": "display_data"
    }
   ],
   "source": [
    "#Obtaining the mean rank for each movie\n",
    "\n",
    "men_popular = men[men.columns[9:15]].mean()\n",
    "women_popular = women[women.columns[9:15]].mean()\n",
    "\n",
    "labels = ['Ep1', 'Ep2', 'Ep3', 'Ep4', 'Ep5', 'Ep6']\n",
    "x = np.arange(len(labels))\n",
    "width = 0.35\n",
    "\n",
    "#Plotting using axes\n",
    "\n",
    "fig, ax = plt.subplots(figsize=(8,6))\n",
    "ax1 = ax.bar(x - width/2, men_popular, width, label='Men')\n",
    "ax2 = ax.bar(x + width/2, women_popular, width, label='Women')\n",
    "\n",
    "ax.set_xticklabels(labels)\n",
    "ax.set_xticks(x)\n",
    "ax.set_xlabel('Movie',size=13)\n",
    "ax.set_yticks([])\n",
    "ax.legend()\n",
    "ax.set_title('Rankings comparison by gender', size=14)\n",
    "\n",
    "plt.show()"
   ]
  },
  {
   "cell_type": "markdown",
   "metadata": {},
   "source": [
    "When we separate by gender we notice that popularity tendencies are the same across men and women. The original trilogy is more popular than the prequel trilogy. We can also highlight that women seemed to like more the prequel trilogy's first and second movie, while men seemed to like more the original trilogy's first movie. Further analysis is needed if we would like to determine if this difference is statystically significant."
   ]
  },
  {
   "cell_type": "markdown",
   "metadata": {},
   "source": [
    "## Seen movie comparison by gender"
   ]
  },
  {
   "cell_type": "code",
   "execution_count": 14,
   "metadata": {
    "scrolled": false
   },
   "outputs": [
    {
     "name": "stderr",
     "output_type": "stream",
     "text": [
      "C:\\Users\\ramst\\anaconda3\\lib\\site-packages\\ipykernel_launcher.py:16: UserWarning: FixedFormatter should only be used together with FixedLocator\n",
      "  app.launch_new_instance()\n"
     ]
    },
    {
     "data": {
      "image/png": "[encoded data removed]",
      "text/plain": [
       "<Figure size 576x432 with 1 Axes>"
      ]
     },
     "metadata": {
      "needs_background": "light"
     },
     "output_type": "display_data"
    }
   ],
   "source": [
    "#obtaining the total times each movie was seen\n",
    "\n",
    "men_popular = men[men.columns[3:9]].sum()\n",
    "women_popular = women[women.columns[3:9]].sum()\n",
    "\n",
    "labels = ['Ep1', 'Ep2', 'Ep3', 'Ep4', 'Ep5', 'Ep6']\n",
    "x = np.arange(len(labels))\n",
    "width = 0.35\n",
    "\n",
    "#Plotting using axes\n",
    "\n",
    "fig, ax = plt.subplots(figsize=(8,6))\n",
    "ax1 = ax.bar(x - width/2, men_popular, width, label='Men')\n",
    "ax2 = ax.bar(x + width/2, women_popular, width, label='Women')\n",
    "\n",
    "ax.set_xticklabels(labels)\n",
    "ax.set_xticks(x)\n",
    "ax.set_yticks([])\n",
    "ax.set_xlabel('Movie',size=13)\n",
    "ax.set_title('Seen movie frequency comparison by gender', size=14)\n",
    "ax.legend()\n",
    "\n",
    "plt.show()"
   ]
  },
  {
   "cell_type": "markdown",
   "metadata": {},
   "source": [
    "From this comparison is obvious that there was a significant difference between male and female respondents, and we can safely say that star wars movies are more popular between the men that participated in this survey. As for the tendencies, it remains the same for both genders, their most seen movies were Episode 5, Episode 6, and Episode 1 respectively."
   ]
  },
  {
   "cell_type": "markdown",
   "metadata": {},
   "source": [
    "## Taste comparison between Star Trek and non Star Trek fans"
   ]
  },
  {
   "cell_type": "code",
   "execution_count": 15,
   "metadata": {},
   "outputs": [],
   "source": [
    "#Separating the data by the condition of being a Star Trek fan\n",
    "\n",
    "fan_trek = star_wars[star_wars['Do you consider yourself to be a fan of the Star Trek franchise?']==True]\n",
    "notfan_trek = star_wars[star_wars['Do you consider yourself to be a fan of the Star Trek franchise?']==False]"
   ]
  },
  {
   "cell_type": "code",
   "execution_count": 16,
   "metadata": {},
   "outputs": [
    {
     "name": "stderr",
     "output_type": "stream",
     "text": [
      "C:\\Users\\ramst\\anaconda3\\lib\\site-packages\\ipykernel_launcher.py:16: UserWarning: FixedFormatter should only be used together with FixedLocator\n",
      "  app.launch_new_instance()\n"
     ]
    },
    {
     "data": {
      "image/png": "[encoded data removed]",
      "text/plain": [
       "<Figure size 576x432 with 1 Axes>"
      ]
     },
     "metadata": {
      "needs_background": "light"
     },
     "output_type": "display_data"
    }
   ],
   "source": [
    "#Obtaining the mean rank for each movie\n",
    "\n",
    "fan_trek_popular = fan_trek[fan_trek.columns[9:15]].mean()\n",
    "notfan_trek_popular = notfan_trek[notfan_trek.columns[9:15]].mean()\n",
    "\n",
    "labels = ['Ep1', 'Ep2', 'Ep3', 'Ep4', 'Ep5', 'Ep6']\n",
    "x = np.arange(len(labels))\n",
    "width = 0.35\n",
    "\n",
    "#Plotting using axes\n",
    "\n",
    "fig, ax = plt.subplots(figsize=(8,6))\n",
    "ax1 = ax.bar(x - width/2, fan_trek_popular, width, label='Star Trek Fan')\n",
    "ax2 = ax.bar(x + width/2, notfan_trek_popular, width, label='Not Star Trek Fan')\n",
    "\n",
    "ax.set_xticklabels(labels)\n",
    "ax.set_xticks(x)\n",
    "ax.set_xlabel('Movie',size=13)\n",
    "ax.set_yticks([])\n",
    "ax.set_title('Rankings comparison by Star Trek fans and non-fans', size=14)\n",
    "ax.legend()\n",
    "\n",
    "plt.show()"
   ]
  },
  {
   "cell_type": "markdown",
   "metadata": {},
   "source": [
    "The tendency to rank higher the original trilogy prevails in this analysis, but we can see that people that are not fans of Star Trek ranked higher every movie of the prequel trilogy than Star Trek fans.\n",
    "\n",
    "This results are suspiciously similar to the **Popularity comparison by gender**, so it leads us to believe that being a Star Trek fan is directly correlated with the gender of the respondent i.e. the majority of women are not Star Trek fans and the majority of men are Star Trek fans. Lets analyze the data further to confirm our observation."
   ]
  },
  {
   "cell_type": "code",
   "execution_count": 17,
   "metadata": {
    "scrolled": true
   },
   "outputs": [
    {
     "name": "stdout",
     "output_type": "stream",
     "text": [
      "According to the data there are 236 Star Trek male fans against 187 females fans\n",
      "According to the data there are 261 Star Trek male non fans against 362 females non fans\n"
     ]
    }
   ],
   "source": [
    "print('According to the data there are {0} Star Trek male fans against {1} females fans'.format(fan_trek['Gender'].value_counts()[0], fan_trek['Gender'].value_counts()[1]))\n",
    "print('According to the data there are {0} Star Trek male non fans against {1} females non fans'.format(notfan_trek['Gender'].value_counts()[1], notfan_trek['Gender'].value_counts()[0]))"
   ]
  },
  {
   "cell_type": "markdown",
   "metadata": {},
   "source": [
    "As we predicted, there are more male Star Trek fans than female fans, and vice-versa. This relationship within the data adds bias to the result of the **Taste comparison between Star Trek and non Star Trek fans** analysis, making it very similar to the **Popularity comparison by gender**."
   ]
  },
  {
   "cell_type": "markdown",
   "metadata": {},
   "source": [
    "## Taste comparison between age groups"
   ]
  },
  {
   "cell_type": "code",
   "execution_count": 18,
   "metadata": {},
   "outputs": [],
   "source": [
    "#Grouping the data by age\n",
    "\n",
    "grouped_age = star_wars.groupby(by=['Age'], dropna=True)"
   ]
  },
  {
   "cell_type": "code",
   "execution_count": 19,
   "metadata": {
    "scrolled": false
   },
   "outputs": [
    {
     "data": {
      "image/png": "[encoded data removed]",
      "text/plain": [
       "<Figure size 1152x432 with 2 Axes>"
      ]
     },
     "metadata": {
      "needs_background": "light"
     },
     "output_type": "display_data"
    }
   ],
   "source": [
    "rankings = list(star_wars.columns[9:15])\n",
    "rankings_prequel = list(star_wars.columns[9:12])\n",
    "rankings_original = list(star_wars.columns[12:15])\n",
    "age_labels = ['18-29', '30-44', '45-60', '> 60']\n",
    "movie_labels = ['Ep1', 'Ep2', 'Ep3', 'Ep4', 'Ep5', 'Ep6']\n",
    "x = np.arange(len(age_labels))\n",
    "width = 0.4\n",
    "\n",
    "#Plotting using axes\n",
    "\n",
    "fig, (ax1, ax2) = plt.subplots(nrows=1, ncols=2, figsize=(16,6))\n",
    "\n",
    "i = 0\n",
    "for label in age_labels:\n",
    "    ax1.scatter(range(6), grouped_age[rankings].mean().iloc[i], label = label)\n",
    "    i += 1\n",
    "    \n",
    "prequel_rank_list=[]\n",
    "original_rank_list=[]\n",
    "for age in age_labels:\n",
    "    mean_ranking = grouped_age[rankings_prequel].mean().loc[age].mean()\n",
    "    prequel_rank_list.append(mean_ranking)\n",
    "    mean_ranking = grouped_age[rankings_original].mean().loc[age].mean()\n",
    "    original_rank_list.append(mean_ranking)\n",
    "\n",
    "ax2.bar(x - width/2, prequel_rank_list, width, label='Prequels')\n",
    "ax2.bar(x + width/2, original_rank_list, width, label='Originals')\n",
    "\n",
    "ax1.set_xticks(range(0,6))\n",
    "ax1.set_xticklabels(movie_labels)\n",
    "ax1.set_xlabel('Movie',size=13)\n",
    "ax1.set_ylabel('Ranking',size=13)\n",
    "ax1.set_title('Movie ranking by age',size=15)\n",
    "ax1.legend()\n",
    "\n",
    "ax2.set_xticks(range(0,4))\n",
    "ax2.set_xticklabels(age_labels)\n",
    "ax2.set_xlabel('Age Group',size=13)\n",
    "ax2.set_title('Prequels and original trilogy mean rank by age', size=15)\n",
    "ax2.legend()\n",
    "\n",
    "plt.show()"
   ]
  },
  {
   "cell_type": "markdown",
   "metadata": {},
   "source": [
    "In the 'Movie ranking by age' graph we see that for Episode 1, the age group that the group of > 60 liked it the most and the ones that disliked it the most were between 30 and 44 years old, this pattern repeats again for Episode 2. Episode 3 ranked the lowest within all 4 age groups, with the group 45 to 60 having the worst opinion and and 18 to 29 having the best. The overall ranking for the prequel trilogy descended by every movie, with the two oldest age groups having the most different opinions at the start of the trilogy and the end. The other two groups mantained the rankings somewhat stable within a range of 2.5 and 3.\n",
    "\n",
    "With the original trilogy we observe that for the three movies the age group 30 to 44 gave the highest ranking for all three movies and the age group of over 60 has the lowest opinion of them all, with the two remaining age groups having an inbetween opinion from the two extremes groups.\n",
    "\n",
    "The analysis of the first graph made us wonder which age group had the largest difference of opinion between each trilogy, this question is answered in the 'Prequels and original trilogy mean rank by age', where we see that the largest difference is attributed to the 30 to 44 age group, and the smallest difference to the over 60 age group. The two remaining age groups had a large, similar difference. \n",
    "\n",
    "To provide an explanation for the large difference of opinion that the 30 to 44 age group has there should be more interdisciplinary testing, but we can make an assumption based on the age that these groups were first exposed to star wars. We're making the assumption that a large difference of opinion could be caused by the passion these movies generate on its fans. So, we could say that the most passionate age group would demonstrate the largest difference of opinion. \n",
    "\n",
    "But what causes this passion? If we take a look of the release dates of the Original Trilogy (1977, 1980, and 1983) the 30 to 44 age group had around 8 years for the first movie and 14 for the last movie. We could compare this phenomenom with modern sagas like Harry Potter, where being exposed to it at a young age increases the probability of becoming a passionate fan. This would also explain the overall indifference the oldest age group had with the movies, since at an older age it's more difficult to develop passion about mass consumed media. These are all arbitrary assumptions that need to be validated with more research."
   ]
  },
  {
   "cell_type": "markdown",
   "metadata": {},
   "source": [
    "## College and income analysis for Star Wars fans"
   ]
  },
  {
   "cell_type": "code",
   "execution_count": 20,
   "metadata": {},
   "outputs": [],
   "source": [
    "#Separating the data according to the condition of being a Star Wars fan\n",
    "\n",
    "star_fans = star_wars[star_wars['Do you consider yourself to be a fan of the Star Wars film franchise?'] == True]"
   ]
  },
  {
   "cell_type": "code",
   "execution_count": 21,
   "metadata": {
    "scrolled": false
   },
   "outputs": [
    {
     "data": {
      "image/png": "[encoded data removed]",
      "text/plain": [
       "<Figure size 1152x432 with 2 Axes>"
      ]
     },
     "metadata": {
      "needs_background": "light"
     },
     "output_type": "display_data"
    }
   ],
   "source": [
    "fig, (ax1, ax2) = plt.subplots(nrows=1, ncols=2, figsize=(16,6))\n",
    "\n",
    "ax1.bar(list(star_fans['Household Income'].value_counts().index), list(star_fans['Household Income'].value_counts().values))\n",
    "ax1.tick_params(axis='x', labelrotation = 20, labelsize=15)\n",
    "ax1.set_title('Star Wars fans income', size=14)\n",
    "ax1.set_yticks([])\n",
    "\n",
    "ax2.bar(list(star_fans['Education'].value_counts().index), list(star_fans['Education'].value_counts().values))\n",
    "ax2.tick_params(axis='x', labelrotation = 30, labelsize=12)\n",
    "ax2.set_yticks([])\n",
    "ax2.set_title('Star Wars fans education level', size=14)\n",
    "\n",
    "plt.show()"
   ]
  },
  {
   "cell_type": "markdown",
   "metadata": {},
   "source": [
    "As we see above, most Star Wars live in a household with an income of 50,000 - 99,000 and have at least a graduate degree. This tells us that most Star Wars fans belong to a middle class home."
   ]
  },
  {
   "cell_type": "markdown",
   "metadata": {},
   "source": [
    "## Conclusions"
   ]
  },
  {
   "cell_type": "markdown",
   "metadata": {},
   "source": [
    "After analyzing the data we can reach some final conclusions:\n",
    "\n",
    "- The most seen and most liked Star Wars movie is Episode V: The Empire Strikes Back.\n",
    "- Star Wars is more popular with males than females.\n",
    "- The Original Trilogy is universally seen as the better trilogy.\n",
    "- The most extreme difference in ranking to the prequel and original trilogy was given by the respondents between 30 and 44 years old.\n",
    "- Household income for most Star Wars fans was found to be between \\\\$50,000 and \\\\$99,000.\n",
    "- Most Star Wars fans have at least a graduate degree.\n",
    "\n",
    "According to our analysis and aknowledging the limitations present in the data, we can give a profile of the ideal Star Wars fan: Male, between 30 and 44 years old, graduated high school and obtained at least one graduate degree, and has an income of more than \\\\$50,000 and less than \\$100,000"
   ]
  }
 ],
 "metadata": {
  "kernelspec": {
   "display_name": "Python 3",
   "language": "python",
   "name": "python3"
  },
  "language_info": {
   "codemirror_mode": {
    "name": "ipython",
    "version": 3
   },
   "file_extension": ".py",
   "mimetype": "text/x-python",
   "name": "python",
   "nbconvert_exporter": "python",
   "pygments_lexer": "ipython3",
   "version": "3.7.10"
  }
 },
 "nbformat": 4,
 "nbformat_minor": 1
}
